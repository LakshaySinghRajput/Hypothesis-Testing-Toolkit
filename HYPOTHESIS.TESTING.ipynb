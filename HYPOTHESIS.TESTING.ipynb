{
 "cells": [
  {
   "cell_type": "code",
   "execution_count": 3,
   "id": "eb7fdf3b-fcd4-4654-b1a5-aa75052485be",
   "metadata": {},
   "outputs": [
    {
     "data": {
      "image/png": "[encoded data removed]",
      "text/plain": [
       "<Figure size 400x300 with 1 Axes>"
      ]
     },
     "metadata": {},
     "output_type": "display_data"
    }
   ],
   "source": [
    "import numpy as np\n",
    "import scipy.stats as st\n",
    "import matplotlib.pyplot as plt\n",
    "\n",
    "m, std, n, s_m, alpha = 168, 39, 36, 169.5, 0.025\n",
    "z_table = st.norm.ppf(1 - alpha)\n",
    "z_test = (s_m - m) / (std / np.sqrt(n))\n",
    "\n",
    "x = np.linspace(-4, 4, 1000)\n",
    "y = st.norm.pdf(x)\n",
    "\n",
    "plt.figure(figsize= (4,3))\n",
    "plt.plot(x, y)\n",
    "plt.fill_between(x, y, where=(x <= -z_table), color='red', alpha=0.5)\n",
    "plt.fill_between(x, y, where=(x >= z_table), color='red', alpha=0.5)\n",
    "plt.axvline(z_table, color='black', linestyle='dashed')\n",
    "plt.axvline(-z_table, color='black', linestyle='dashed')\n",
    "plt.axvline(z_test, color='orange')\n",
    "plt.title('Z-Test Visualization')\n",
    "plt.show()"
   ]
  },
  {
   "cell_type": "markdown",
   "id": "61580d69-2626-47ff-b1bc-2567ad719268",
   "metadata": {},
   "source": [
    "##a factory manufactors bulbs with a avg waranty of 5 years with std of 0.50 .\n",
    "##a worker believis that the bulbs will manufactor in less than 5 years he test a sample \n",
    "##of 40 bulbs and find the avg time to be 4.8 years \n",
    "\n",
    "##at a 2% significance level ,is there enough evidence to support the idea that the warraty should be revised?\n"
   ]
  },
  {
   "cell_type": "code",
   "execution_count": 93,
   "id": "ee8c20c7-e974-4a0e-8525-9b59fd64a559",
   "metadata": {},
   "outputs": [],
   "source": [
    "import scipy.stats as st\n",
    "import numpy as np "
   ]
  },
  {
   "cell_type": "code",
   "execution_count": 113,
   "id": "04a2ecac-ce4e-44c2-880c-a590a1063abc",
   "metadata": {},
   "outputs": [
    {
     "name": "stdout",
     "output_type": "stream",
     "text": [
      "h1\n"
     ]
    }
   ],
   "source": [
    "n = 40\n",
    "s_m = 4.8\n",
    "p_std = 0.50\n",
    "m = 5\n",
    "ap = 0.02\n",
    "\n",
    "## h0 null h it made in 5 years \n",
    "## H1 AL H IT MADE IN 4.8 YEARS \n",
    "\n",
    "c = st.norm.ppf(1 - ap)\n",
    "\n",
    "\n",
    "v = (s_m - m) / (p_std/np.sqrt(n))\n",
    "\n",
    "if v > c:\n",
    "    print(\"ho\")\n",
    "else:\n",
    "    print(\"h1\")\n"
   ]
  },
  {
   "cell_type": "markdown",
   "id": "e2bf50e7-eda9-4105-bf42-e333ea09942a",
   "metadata": {},
   "source": [
    "### self "
   ]
  },
  {
   "cell_type": "markdown",
   "id": "1e8a2f45-11ea-4a30-81f9-5d9a4711f706",
   "metadata": {},
   "source": [
    "#A manufacturer claims that the average lifespan of their light bulbs is 1,200 hours. A consumer group believes that the actual average lifespan is less than this. To test this claim, they randomly select 40 light bulbs and find that the average lifespan of the sample is 1,150 hours with a standard deviation of 100 hours."
   ]
  },
  {
   "cell_type": "code",
   "execution_count": 4,
   "id": "d927b698-607e-4859-be79-50d7eb89e77f",
   "metadata": {},
   "outputs": [
    {
     "name": "stdout",
     "output_type": "stream",
     "text": [
      "h1\n"
     ]
    }
   ],
   "source": [
    "p_m = 1200\n",
    "n = 40\n",
    "s_m = 1150\n",
    "p_std = 100\n",
    "alpha = 0.05\n",
    "\n",
    "con = st.norm.ppf(1 - alpha)\n",
    "\n",
    "val = (s_m - p_m) / (p_std/np.sqrt(n))\n",
    "\n",
    "if val > con:\n",
    "    print(\"h0\")\n",
    "else:\n",
    "    print(\"h1\") "
   ]
  },
  {
   "cell_type": "markdown",
   "id": "2b3a3a03-0324-4abd-af3d-38ae5df325c7",
   "metadata": {},
   "source": [
    "##A company produces metal rods that are supposed to have a mean length of 50 cm. A customer believes that the rods are too long. The customer takes a random sample of 30 rods and finds that their average length is 51 cm with a standard deviation of 2 cm."
   ]
  },
  {
   "cell_type": "code",
   "execution_count": 127,
   "id": "56d7edfb-e360-4c20-8598-d16dd122faa0",
   "metadata": {},
   "outputs": [
    {
     "name": "stdout",
     "output_type": "stream",
     "text": [
      "h1\n"
     ]
    }
   ],
   "source": [
    "p_m = 50\n",
    "n = 30\n",
    "s_m = 51\n",
    "p_std = 2\n",
    "alpha = 0.01\n",
    "\n",
    "con = st.norm.ppf(1 - 0.01)\n",
    "\n",
    "val = (s_m - p_m)/(p_std/np.sqrt(n))\n",
    "\n",
    "if val > con:\n",
    "    print(\"h1\")\n",
    "else:\n",
    "    print(\"h0\")"
   ]
  },
  {
   "cell_type": "markdown",
   "id": "0e4c5ac6-80d3-4ee6-bf89-117c38c876d1",
   "metadata": {},
   "source": [
    "##A medical researcher claims that the average recovery time for a certain type of surgery is 8 weeks. A hospital wants to verify this claim and collects a sample of 25 patients who underwent the surgery. The sample shows an average recovery time of 7.5 weeks with a standard deviation of 1.2 week"
   ]
  },
  {
   "cell_type": "code",
   "execution_count": 129,
   "id": "976dcbd2-cd27-4163-8613-0e3cc53549ff",
   "metadata": {},
   "outputs": [
    {
     "name": "stdout",
     "output_type": "stream",
     "text": [
      "h1\n"
     ]
    }
   ],
   "source": [
    "p_m = 8\n",
    "n = 25\n",
    "s_m = 7.5\n",
    "p_std = 1.2\n",
    "alpha = 0.05\n",
    "\n",
    "d_b = st.norm.ppf(1 - 0.05)\n",
    "\n",
    "val  = (s_m - p_m) / (p_std/np.sqrt(n))\n",
    "\n",
    "if val > d_b:\n",
    "    print(\"h0\")\n",
    "else:\n",
    "    print(\"h1\")"
   ]
  },
  {
   "cell_type": "code",
   "execution_count": 130,
   "id": "3f671b14-8b80-4891-9ec3-37335e00b882",
   "metadata": {},
   "outputs": [
    {
     "data": {
      "text/plain": [
       "(1.6448536269514722, -2.0833333333333335)"
      ]
     },
     "execution_count": 130,
     "metadata": {},
     "output_type": "execute_result"
    }
   ],
   "source": [
    "d_b , val"
   ]
  },
  {
   "cell_type": "markdown",
   "id": "8a2416b9-2c05-4ef0-be91-4bec5a8c2d7d",
   "metadata": {},
   "source": [
    "##A soft drink company claims that its cans contain an average of 355 ml of soda. A quality control manager takes a sample of 40 cans and finds that the average amount of soda is 350 ml with a standard deviation of 8 ml."
   ]
  },
  {
   "cell_type": "code",
   "execution_count": 132,
   "id": "345d3f1e-5227-4c40-8516-a101556999fb",
   "metadata": {},
   "outputs": [
    {
     "name": "stdout",
     "output_type": "stream",
     "text": [
      "h1\n"
     ]
    }
   ],
   "source": [
    "p_m = 355\n",
    "n = 40\n",
    "s_m = 350 \n",
    "p_std = 8\n",
    "ap = 0.05\n",
    "\n",
    "bon = st.norm.ppf(1 - ap)\n",
    "v = (s_m - p_m)/(p_std/np.sqrt(n))\n",
    "if v > bon:\n",
    "    print(\"h0\")\n",
    "else:\n",
    "    print(\"h1\")"
   ]
  },
  {
   "cell_type": "code",
   "execution_count": 133,
   "id": "8975d88f-3e1f-41d0-b0d8-578d45c7381b",
   "metadata": {},
   "outputs": [
    {
     "data": {
      "text/plain": [
       "(-3.952847075210474, 1.6448536269514722)"
      ]
     },
     "execution_count": 133,
     "metadata": {},
     "output_type": "execute_result"
    }
   ],
   "source": [
    "v , bon"
   ]
  },
  {
   "cell_type": "code",
   "execution_count": 9,
   "id": "6ac7efe6-6453-420e-a648-d72a1d1f9bfc",
   "metadata": {},
   "outputs": [],
   "source": [
    "import scipy.stats as st\n",
    "import numpy as np "
   ]
  },
  {
   "cell_type": "markdown",
   "id": "bf42e3b7-6046-4933-90dd-9df418ea3590",
   "metadata": {},
   "source": [
    "##A researcher wants to determine if the average height of adult males in a certain city is different from the national average of 175 cm. A random sample of 50 adult males from the city was taken, and their average height was found to be 178 cm with a standard deviation of 10 cm."
   ]
  },
  {
   "cell_type": "code",
   "execution_count": 11,
   "id": "4d040216-47a6-4b19-9dc1-6fd6bb60a11e",
   "metadata": {},
   "outputs": [],
   "source": [
    "p_mean = 175 \n",
    "n = 50\n",
    "s_mean = 178 \n",
    "p_std = 10\n",
    "alpha = 0.05"
   ]
  },
  {
   "cell_type": "code",
   "execution_count": 12,
   "id": "bdca47f7-8d44-4c5a-ad92-0702e14b75ad",
   "metadata": {},
   "outputs": [],
   "source": [
    "## H0 MEAN = 175\n",
    "## H1 MEAN < 178"
   ]
  },
  {
   "cell_type": "code",
   "execution_count": 13,
   "id": "00060906-b4b9-4533-8519-b1ad5ef07aa8",
   "metadata": {},
   "outputs": [
    {
     "name": "stdout",
     "output_type": "stream",
     "text": [
      " H1\n"
     ]
    }
   ],
   "source": [
    "p_mean = 175 \n",
    "n = 50\n",
    "s_mean = 178 \n",
    "p_std = 10\n",
    "alpha = 0.05\n",
    "critical = st.norm.ppf(1-alpha/2)\n",
    "z_value = (s_mean -p_mean)/(p_std/np.sqrt(n))\n",
    "if z_value >  critical:\n",
    "    print(\" H1\")\n",
    "else:\n",
    "    print(\" H0\")"
   ]
  },
  {
   "cell_type": "code",
   "execution_count": 14,
   "id": "003c3103-2a42-445d-a2bb-6903c09e1a11",
   "metadata": {},
   "outputs": [
    {
     "data": {
      "text/plain": [
       "1.959963984540054"
      ]
     },
     "execution_count": 14,
     "metadata": {},
     "output_type": "execute_result"
    }
   ],
   "source": [
    "abs(critical)"
   ]
  },
  {
   "cell_type": "code",
   "execution_count": 15,
   "id": "e8b99ff2-31cb-4aad-b2b8-8bb49bdd2828",
   "metadata": {},
   "outputs": [
    {
     "data": {
      "text/plain": [
       "2.121320343559643"
      ]
     },
     "execution_count": 15,
     "metadata": {},
     "output_type": "execute_result"
    }
   ],
   "source": [
    "abs(z_value)"
   ]
  },
  {
   "cell_type": "markdown",
   "id": "fdaa5d38-75eb-4ed6-8cfa-12ce13f45194",
   "metadata": {},
   "source": [
    "##A school claims that its students have an average score of 75 in mathematics. To verify this claim, a researcher randomly selects 30 students and finds that their average score is 78 with a population standard deviation of 10. At a significance level of 0.05, test whether the school’s claim is valid"
   ]
  },
  {
   "cell_type": "code",
   "execution_count": 17,
   "id": "fb925d7d-5079-41f1-97db-4594bc15ea42",
   "metadata": {},
   "outputs": [],
   "source": [
    "p_mean = 75\n",
    "n = 30\n",
    "s_mean = 78\n",
    "p_std = 10\n",
    "al = 0.05"
   ]
  },
  {
   "cell_type": "code",
   "execution_count": 18,
   "id": "aac57fd2-c104-4e04-a2d4-61e1a5e4ccef",
   "metadata": {},
   "outputs": [],
   "source": [
    "d_bon = st.norm.ppf(1 - al / 2)"
   ]
  },
  {
   "cell_type": "code",
   "execution_count": 19,
   "id": "d2f04a72-1d89-4997-9f93-bee3a560a6ed",
   "metadata": {},
   "outputs": [],
   "source": [
    "z_value = (s_mean - p_mean)/(p_std/np.sqrt(n))"
   ]
  },
  {
   "cell_type": "code",
   "execution_count": 20,
   "id": "2516e235-b936-48e2-a509-7248147872fe",
   "metadata": {},
   "outputs": [
    {
     "name": "stdout",
     "output_type": "stream",
     "text": [
      "h1\n"
     ]
    }
   ],
   "source": [
    "if z_value > d_bon:\n",
    "    print(\"h0\")\n",
    "else:\n",
    "    print(\"h1\")"
   ]
  },
  {
   "cell_type": "code",
   "execution_count": 21,
   "id": "8523a51c-56a1-4ee0-b8ec-fb9ce471eaad",
   "metadata": {},
   "outputs": [
    {
     "data": {
      "text/plain": [
       "(1.6431676725154982, 1.959963984540054)"
      ]
     },
     "execution_count": 21,
     "metadata": {},
     "output_type": "execute_result"
    }
   ],
   "source": [
    "z_value , d_bon"
   ]
  },
  {
   "cell_type": "markdown",
   "id": "34440f3b-0507-4beb-b1f7-bd9dc1662a9d",
   "metadata": {},
   "source": [
    "##A researcher wants to determine if a new teaching method is effective. The average test score of students taught using traditional methods is known to be 82. A sample of 36 students taught with the new method has an average score of 86 with a standard deviation of 12. At a significance level of 0.05, can we conclude that the new teaching method has improved test scores"
   ]
  },
  {
   "cell_type": "code",
   "execution_count": 23,
   "id": "07c3cd99-1a78-4c5a-875d-2a34aac8a712",
   "metadata": {},
   "outputs": [],
   "source": [
    "p_mean = 82\n",
    "n = 36\n",
    "s_mean = 86\n",
    "p_std = 12\n",
    "al = 0.05"
   ]
  },
  {
   "cell_type": "code",
   "execution_count": 24,
   "id": "1476ffa1-8cba-4bdb-92fc-e8d46016b57f",
   "metadata": {},
   "outputs": [],
   "source": [
    "## h0 m = 82\n",
    "## h1 m = 86"
   ]
  },
  {
   "cell_type": "code",
   "execution_count": 25,
   "id": "0951c953-63e8-4fba-b462-ce77641582d3",
   "metadata": {},
   "outputs": [],
   "source": [
    "d_bo = st.norm.ppf(1 - al/2)"
   ]
  },
  {
   "cell_type": "code",
   "execution_count": 26,
   "id": "4e535028-97a9-4572-81f6-30bc3dc58fdd",
   "metadata": {},
   "outputs": [],
   "source": [
    "z_val = (s_mean - p_mean)/(p_std/np.sqrt(n))"
   ]
  },
  {
   "cell_type": "code",
   "execution_count": 27,
   "id": "83950904-d17c-4dea-968f-c27982c3978c",
   "metadata": {},
   "outputs": [
    {
     "name": "stdout",
     "output_type": "stream",
     "text": [
      "h1\n"
     ]
    }
   ],
   "source": [
    "if z_val  < d_bo:\n",
    "    print(\"h0\")\n",
    "else:\n",
    "    print(\"h1\")"
   ]
  },
  {
   "cell_type": "code",
   "execution_count": 28,
   "id": "e33efec4-e9dc-4063-8966-325cad198881",
   "metadata": {},
   "outputs": [
    {
     "data": {
      "text/plain": [
       "(2.0, 1.959963984540054)"
      ]
     },
     "execution_count": 28,
     "metadata": {},
     "output_type": "execute_result"
    }
   ],
   "source": [
    "z_val , d_bo"
   ]
  },
  {
   "cell_type": "markdown",
   "id": "feaa6458-10f1-4174-8e69-22906f4f8635",
   "metadata": {},
   "source": [
    "##A company claims that its light bulbs last an average of 1,000 hours. To test this claim, a consumer group randomly selects 50 light bulbs and finds that the average lifetime of these bulbs is 950 hours with a standard deviation of 100 hours. At a significance level of 0.01, can we conclude that the average lifetime of the bulbs is less than the claimed average?"
   ]
  },
  {
   "cell_type": "code",
   "execution_count": 30,
   "id": "249cf7ef-bab3-4c40-8080-5a98ae9b11a4",
   "metadata": {},
   "outputs": [],
   "source": [
    "p_m = 1000\n",
    "n = 50\n",
    "s_m = 950\n",
    "std = 100\n",
    "al = 0.01"
   ]
  },
  {
   "cell_type": "code",
   "execution_count": 31,
   "id": "2845a46f-2c2e-4cf0-b0ba-dc442762efea",
   "metadata": {},
   "outputs": [],
   "source": [
    "z_test = (s_m - p_m)/(std/np.sqrt(n))"
   ]
  },
  {
   "cell_type": "code",
   "execution_count": 32,
   "id": "91c956cb-0489-4429-9225-690017acbba8",
   "metadata": {},
   "outputs": [],
   "source": [
    "bon = st.norm.ppf(1 - al)"
   ]
  },
  {
   "cell_type": "code",
   "execution_count": 33,
   "id": "8a5e8a33-4ffc-449b-9eec-5d5ad8724ec1",
   "metadata": {},
   "outputs": [
    {
     "name": "stdout",
     "output_type": "stream",
     "text": [
      "h1\n"
     ]
    }
   ],
   "source": [
    "if z_test < bon:\n",
    "    print(\"h1\")\n",
    "else:\n",
    "    print(\"h0\")"
   ]
  },
  {
   "cell_type": "markdown",
   "id": "e9cdc993-74f5-4096-9b0b-299b72a8cfb6",
   "metadata": {},
   "source": [
    "##A new medication claims to reduce blood pressure more effectively than the standard medication, which has an average effect of reducing systolic blood pressure by 5 mmHg. A clinical trial is conducted with 40 patients using the new medication, and the average reduction in blood pressure is found to be 5.2 mmHg with a standard deviation of 3 mmHg. At a significance level of 0.05, can we conclude that the new medication is significantly better than the standard medication"
   ]
  },
  {
   "cell_type": "code",
   "execution_count": 35,
   "id": "d558b39b-0818-483f-87ba-382c5dfb3dc4",
   "metadata": {},
   "outputs": [],
   "source": [
    "p_m = 5\n",
    "n = 40\n",
    "s_m = 5.2\n",
    "std = 3\n",
    "al = 0.05"
   ]
  },
  {
   "cell_type": "code",
   "execution_count": 36,
   "id": "50b560a8-a870-4504-b0d1-bcafe3aba0ed",
   "metadata": {},
   "outputs": [],
   "source": [
    "z_t = (s_m - p_m)/(std/np.sqrt(n))"
   ]
  },
  {
   "cell_type": "code",
   "execution_count": 37,
   "id": "59d4ce2b-929c-486f-9d14-ca9385b6c566",
   "metadata": {},
   "outputs": [],
   "source": [
    "con = st.norm.ppf(1 - 0.05 / 2)"
   ]
  },
  {
   "cell_type": "code",
   "execution_count": 40,
   "id": "ec3dd46e-9278-4159-b9ed-f0f4ffb9a049",
   "metadata": {},
   "outputs": [
    {
     "name": "stdout",
     "output_type": "stream",
     "text": [
      "h0\n"
     ]
    }
   ],
   "source": [
    "if z_t > con:\n",
    "    print(\"h1\")\n",
    "else:\n",
    "    print(\"h0\")"
   ]
  },
  {
   "cell_type": "markdown",
   "id": "bd1807b6-9fb1-43b5-ae14-80f4ebc013bf",
   "metadata": {},
   "source": [
    "###A new study claims that the average time students spend on homework each week is 10 hours. A researcher surveys a random sample of 40 students and finds that they spend an average of 12 hours on homework, with a standard deviation of 2.5 hours. Test the study's claim at a significance level of 0.05."
   ]
  },
  {
   "cell_type": "code",
   "execution_count": 50,
   "id": "3bbf2e43-3438-48e9-b88e-dc101bb79a60",
   "metadata": {},
   "outputs": [
    {
     "name": "stdout",
     "output_type": "stream",
     "text": [
      "h1\n"
     ]
    },
    {
     "data": {
      "image/png": "[encoded data removed]",
      "text/plain": [
       "<Figure size 500x300 with 1 Axes>"
      ]
     },
     "metadata": {},
     "output_type": "display_data"
    }
   ],
   "source": [
    "p_mean  = 10\n",
    "n = 40 \n",
    "s_mean  = 12\n",
    "std = 2.5\n",
    "al = 0.05\n",
    "#h0 = 10 , h1 != 10\n",
    "z_table = st.norm.ppf(1 - al/2)\n",
    "z_value = (s_mean-p_mean)/(std/np.sqrt(n))\n",
    "if z_value > z_table:\n",
    "    print(\"h1\")\n",
    "else:\n",
    "    print(\"h0\")\n",
    "\n",
    "z = np.linspace(-4, 4, 1000)\n",
    "pdf = st.norm.pdf(z, 0, 1)\n",
    "\n",
    "plt.figure(figsize=(5, 3))\n",
    "plt.plot(z, pdf, label='Standard Normal Distribution', color='blue')\n",
    "plt.axvline(z_table, color='red', linestyle='--', label='Critical Value (z = {:.2f})'.format(z_table))\n",
    "plt.axvline(-z_table, color='red', linestyle='--')\n",
    "plt.axvline(z_value, color='green', linestyle='-', label='Calculated Z-value (z = {:.2f})'.format(z_value))\n",
    "\n",
    "plt.fill_between(z, pdf, where=(z >= z_table), color='red', alpha=0.5)\n",
    "plt.fill_between(z, pdf, where=(z <= -z_table), color='red', alpha=0.5)\n",
    "\n",
    "plt.title('Z-test Visualization')\n",
    "plt.xlabel('Z-value')\n",
    "plt.ylabel('Probability Density')\n",
    "plt.legend()\n",
    "plt.grid()\n",
    "plt.show()"
   ]
  },
  {
   "cell_type": "markdown",
   "id": "e8e12b5f-9daf-4979-9075-ed773b31b9fc",
   "metadata": {},
   "source": [
    "##A diet program claims that participants lose an average of 5 kg after following the program for 8 weeks. A researcher collects data from a sample of 30 participants and finds that they lost an average of 4.5 kg with a standard deviation of 1.2 kg."
   ]
  },
  {
   "cell_type": "code",
   "execution_count": 25,
   "id": "777ad617-c98c-40a4-ba50-ed98cca03cde",
   "metadata": {},
   "outputs": [
    {
     "name": "stdout",
     "output_type": "stream",
     "text": [
      "h1\n"
     ]
    },
    {
     "data": {
      "text/plain": [
       "(1.959963984540054, -1.8257418583505538)"
      ]
     },
     "execution_count": 25,
     "metadata": {},
     "output_type": "execute_result"
    }
   ],
   "source": [
    "p_mean = 5\n",
    "n = 30 \n",
    "s_mean = 4.5\n",
    "std = 1.5\n",
    "al = 0.05\n",
    "## H0 = 5 , H > 5\n",
    "z_bon = st.norm.ppf(1 - al / 2)\n",
    "z_val = (s_mean-p_mean)/(std/np.sqrt(n))\n",
    "if z_val < z_bon:\n",
    "    print(\"h1\")\n",
    "else:\n",
    "    print(\"h0\")\n",
    "\n",
    "z_bon , z_val\n"
   ]
  },
  {
   "cell_type": "markdown",
   "id": "a47bf51f-f545-4ac6-98cb-57e9ea16318b",
   "metadata": {},
   "source": [
    "#Ek researcher ko lagta hai ki college students din mein average 7 ghante soate hain. Unhone randomly 36 students ka data collect kiya, jismein students ka average sleep time 6.8 hours aaya, aur standard deviation 0.6 hours thi.\n",
    "#Significance level (α) = 0.05.\n",
    "#Null Hypothesis (H₀): College students ka average sleep time 7 ghante hai.\n",
    "#Alternative Hypothesis (H₁): College students ka average sleep time 7 ghante se alag hai."
   ]
  },
  {
   "cell_type": "code",
   "execution_count": 7,
   "id": "c39a9754-c369-4ccc-a6c8-f02d079bc773",
   "metadata": {},
   "outputs": [],
   "source": [
    "import scipy.stats as st\n",
    "import numpy as np"
   ]
  },
  {
   "cell_type": "code",
   "execution_count": 39,
   "id": "7c84c6e2-b3ba-401d-bddc-261da8e8bd96",
   "metadata": {},
   "outputs": [
    {
     "name": "stdout",
     "output_type": "stream",
     "text": [
      "h1\n"
     ]
    },
    {
     "data": {
      "text/plain": [
       "(1.959963984540054, -2.0000000000000018)"
      ]
     },
     "execution_count": 39,
     "metadata": {},
     "output_type": "execute_result"
    }
   ],
   "source": [
    "p_m = 7\n",
    "n = 36\n",
    "s_m = 6.8\n",
    "std = 0.6\n",
    "alpha = 0.05\n",
    "#critical value\n",
    "z_bon = st.norm.ppf(1 - alpha/2)\n",
    "#z-value\n",
    "z_test = (s_m-p_m)/(std/np.sqrt(n))\n",
    "\n",
    "if z_test < z_bon:\n",
    "    print(\"h1\")\n",
    "else:\n",
    "    print(\"h0\")\n",
    "\n",
    "z_bon ,z_test"
   ]
  },
  {
   "cell_type": "code",
   "execution_count": 38,
   "id": "9330a559-2c2e-4484-b613-d4e2296e3103",
   "metadata": {},
   "outputs": [
    {
     "data": {
      "image/png": "[encoded data removed]",
      "text/plain": [
       "<Figure size 1000x600 with 1 Axes>"
      ]
     },
     "metadata": {},
     "output_type": "display_data"
    }
   ],
   "source": [
    "import matplotlib.pyplot as plt\n",
    "\n",
    "# Data for plotting\n",
    "x = np.linspace(-4, 4, 1000)  # Z values\n",
    "y = st.norm.pdf(x, 0, 1)       # Standard normal distribution\n",
    "\n",
    "# Plotting\n",
    "plt.figure(figsize=(10, 6))\n",
    "plt.plot(x, y, label='Z-distribution', color='blue')\n",
    "\n",
    "# Shade the rejection region\n",
    "plt.fill_between(x, 0, y, where=(x > z_bon), color='red', alpha=0.5, label='Rejection Region')\n",
    "\n",
    "# Mark critical value and test statistic\n",
    "plt.axvline(z_bon, color='green', linestyle='--', label=f'Critical value (z_bon) = {z_bon:.2f}')\n",
    "plt.axvline(z_test, color='orange', linestyle='--', label=f'Z-test value = {z_test:.2f}')\n",
    "\n",
    "# Labels and title\n",
    "plt.title('Z-Test Distribution')\n",
    "plt.xlabel('Z-value')\n",
    "plt.ylabel('Probability Density')\n",
    "plt.legend()\n",
    "plt.grid()\n",
    "plt.show()\n"
   ]
  },
  {
   "cell_type": "code",
   "execution_count": 17,
   "id": "e514d100-ded5-4689-aa48-6ebaa92c3835",
   "metadata": {},
   "outputs": [
    {
     "data": {
      "text/plain": [
       "(0.4216370213557843,\n",
       " 1.6448536269514722,\n",
       " 'Accept H0: New medication is not significantly better.')"
      ]
     },
     "execution_count": 17,
     "metadata": {},
     "output_type": "execute_result"
    }
   ],
   "source": [
    "\n",
    "\n",
    "p_m = 5           # Population mean\n",
    "s_m = 5.2         # Sample mean\n",
    "n = 40            # Sample size\n",
    "std = 3           # Sample standard deviation\n",
    "alpha = 0.05      # Significance level\n",
    "\n",
    "# Z-value calculation\n",
    "z_t = (s_m - p_m) / (std / np.sqrt(n))\n",
    "\n",
    "# Critical value for one-tailed test\n",
    "z_critical = st.norm.ppf(1 - alpha)\n",
    "\n",
    "# Decision\n",
    "if z_t > z_critical:\n",
    "    conclusion = \"Reject H0, accept H1: New medication is significantly better.\"\n",
    "else:\n",
    "    conclusion = \"Accept H0: New medication is not significantly better.\"\n",
    "\n",
    "z_t, z_critical, conclusion\n"
   ]
  },
  {
   "cell_type": "markdown",
   "id": "10a4f838-0ec0-4cae-9593-ee3d1a272606",
   "metadata": {},
   "source": [
    "#Ek researcher ko lagta hai ki ek naye diet plan se logon ka weight loss average 10 kg hai. Ek clinical trial mein, 50 logon ka data collect kiya gaya, jismein inka average weight loss 9.2 kg tha, aur standard deviation 2.5 kg thi.\n",
    "\n",
    "#Significance level (α) = 0.05."
   ]
  },
  {
   "cell_type": "code",
   "execution_count": 35,
   "id": "ecf53b70-7fdf-4f1c-b135-40c42be6d4eb",
   "metadata": {},
   "outputs": [
    {
     "name": "stdout",
     "output_type": "stream",
     "text": [
      "h1\n"
     ]
    }
   ],
   "source": [
    "p_m = 10\n",
    "n = 50\n",
    "s_m = 9.2\n",
    "std = 2.5\n",
    "alpha = 0.05\n",
    "#Null Hypothesis (H₀): Population mean (p_m) = 10 kg (koi change nahi hai).\n",
    "#Alternative Hypothesis (H₁): Population mean (p_m) ≠ 10 kg (koi change hai).\n",
    "\n",
    "z_table = st.norm.ppf(1-alpha/2)\n",
    "\n",
    "z_value = (s_m-p_m)/(std/np.sqrt(n))\n",
    "\n",
    "if abs(z_value) > z_table:\n",
    "    print(\"h1\")\n",
    "else:\n",
    "    print(\"h0\")\n"
   ]
  },
  {
   "cell_type": "code",
   "execution_count": 36,
   "id": "10d7c191-0847-41e5-bca5-0fda63d75651",
   "metadata": {},
   "outputs": [
    {
     "data": {
      "text/plain": [
       "(1.959963984540054, -2.2627416997969543)"
      ]
     },
     "execution_count": 36,
     "metadata": {},
     "output_type": "execute_result"
    }
   ],
   "source": [
    "z_table , z_value"
   ]
  },
  {
   "cell_type": "code",
   "execution_count": 2,
   "id": "e1e08043-230c-4725-86aa-935b8f37b5be",
   "metadata": {},
   "outputs": [],
   "source": [
    "import numpy as np \n",
    "import scipy.stats as st"
   ]
  },
  {
   "cell_type": "markdown",
   "id": "4212b25f-eb42-4dff-a96b-f16c19f8884d",
   "metadata": {},
   "source": [
    "#Ek school mein students ke math test ke average score ko evaluate kiya gaya hai. School ka claim hai ki students ka average score 70 hai. Aapke paas 40 students ke scores hain, aur aapko check karna hai ki kya students ka average score 70 ke equal hai ya nahi. Given sample ka mean score 68 aur standard deviation 8 hai.\n",
    "\n",
    "#Hypothesis:\n",
    "\n",
    "#H0: μ = 70 (students ka average score 70 hai)\n",
    "#H1: μ ≠ 70 (students ka average score 70 ke equal nahi hai)"
   ]
  },
  {
   "cell_type": "code",
   "execution_count": 12,
   "id": "1bd4f35a-a370-4f4a-b826-01e3799c871d",
   "metadata": {},
   "outputs": [
    {
     "name": "stdout",
     "output_type": "stream",
     "text": [
      "h1\n"
     ]
    }
   ],
   "source": [
    "p_mean = 70\n",
    "n = 40\n",
    "s_mean = 68\n",
    "std = 8\n",
    "alpha = 0.05\n",
    "#H0: μ = 70 \n",
    "#H1: μ ≠ 70 \n",
    "\n",
    "z_critical = st.norm.ppf(1 - alpha / 2)\n",
    "\n",
    "z_value = (s_mean-p_mean)/(std/np.sqrt(n))\n",
    "\n",
    "if abs(z_value) < z_critical:\n",
    "    print(\"h1\")\n",
    "else:\n",
    "    print(\"h0\")"
   ]
  },
  {
   "cell_type": "code",
   "execution_count": 13,
   "id": "65d2782f-cd52-417c-8364-4b720cbed26a",
   "metadata": {},
   "outputs": [
    {
     "data": {
      "text/plain": [
       "(1.959963984540054, 1.5811388300841895)"
      ]
     },
     "execution_count": 13,
     "metadata": {},
     "output_type": "execute_result"
    }
   ],
   "source": [
    "z_critical , abs(z_value)"
   ]
  },
  {
   "cell_type": "markdown",
   "id": "e8418188-030a-4997-b9a7-334091f3abc4",
   "metadata": {},
   "source": [
    "Ek company naye aur purane training methods ko compare kar rahi hai. Company ne 10 employees ke naye training method ke baad scores record kiye hain aur 10 purane training method ke baad ke scores hain. Aapko test karna hai ki kya naye training method mein improvement hai ya nahi.\n",
    "\n",
    "Scores:\n",
    "\n",
    "Naye Training Scores: 82, 85, 88, 90, 87, 86, 85, 89, 91, 84\n",
    "Purane Training Scores: 78, 75, 80, 76, 79, 78, 77, 74, 73, 76"
   ]
  },
  {
   "cell_type": "code",
   "execution_count": 14,
   "id": "1369497e-074f-4254-b381-bd2bdbe2e184",
   "metadata": {},
   "outputs": [
    {
     "name": "stdout",
     "output_type": "stream",
     "text": [
      "h1\n"
     ]
    }
   ],
   "source": [
    "old = np.array([78, 75, 80, 76, 79, 78, 77, 74, 73, 76])\n",
    "new = np.array([ 82, 85, 88, 90, 87, 86, 85, 89, 91, 84])\n",
    "\n",
    "#H0 NO IMPROMENT \n",
    "#h1 have improment\n",
    "\n",
    "p_m = old.mean()\n",
    "s_m = new.mean()\n",
    "n = len(new)\n",
    "std = old.std()\n",
    "alpha = 0.05\n",
    "df = n - 1\n",
    "\n",
    "t_bon = st.t.ppf(1 - alpha , df)\n",
    "t_val = (s_m-p_m)/(std/np.sqrt(n))\n",
    "\n",
    "if t_val > t_bon:\n",
    "    print(\"h1\")\n",
    "else:\n",
    "    print(\"h0\")"
   ]
  },
  {
   "cell_type": "markdown",
   "id": "c3036deb-ae78-44c5-a91c-b101682504cb",
   "metadata": {},
   "source": [
    "# CHI SQUARE TEST "
   ]
  },
  {
   "cell_type": "markdown",
   "id": "13acd3d0-7fcc-4db5-a02b-0251ca4c243b",
   "metadata": {},
   "source": [
    "#chi_critical = st.chi2.ppf(1 - alpha, df)\n",
    "\n",
    "#chi_value = np.sum((observed - expected)**2 / expected)\n"
   ]
  },
  {
   "cell_type": "code",
   "execution_count": 1,
   "id": "1ba58973-20e0-4707-b788-04b3903ddd65",
   "metadata": {},
   "outputs": [],
   "source": [
    "import numpy as np\n",
    "from scipy import stats as st"
   ]
  },
  {
   "cell_type": "markdown",
   "id": "b5097bed-405a-4afb-bdb5-27445ba1f8a6",
   "metadata": {},
   "source": [
    "#A teacher wants to know if students prefer different subjects equally. A random sample of 100 students was asked their favorite subject. The results are as follows:\n",
    "#Subject\tStudents (Observed)\n",
    "#Math\t25\n",
    "#Science\t30\n",
    "#English\t20\n",
    "#History\t25\n",
    "#Based on this data, test if students prefer subjects equally using a 5% significance level."
   ]
  },
  {
   "cell_type": "code",
   "execution_count": 2,
   "id": "d6b97790-b30b-410e-9893-dfd95ad5341a",
   "metadata": {},
   "outputs": [
    {
     "name": "stdout",
     "output_type": "stream",
     "text": [
      "h0\n"
     ]
    },
    {
     "data": {
      "image/png": "[encoded data removed]",
      "text/plain": [
       "<Figure size 1000x600 with 1 Axes>"
      ]
     },
     "metadata": {},
     "output_type": "display_data"
    }
   ],
   "source": [
    "#H0 = Students prefer each subject equally.\n",
    "#H1 = Students do not prefer each subject equally.\n",
    "\n",
    "obj = np.array([25,30,20,25])\n",
    "n = 100\n",
    "exp = n /len(obj)\n",
    "alpha = 0.05\n",
    "df = len(obj) - 1\n",
    "\n",
    "chi_bon = st.chi2.ppf(1 - alpha,df)\n",
    "chi_val = np.sum((obj-exp)**2/exp)\n",
    "\n",
    "if chi_val > chi_bon:\n",
    "    print(\"h1\")\n",
    "else:\n",
    "    print(\"h0\")\n",
    "\n",
    "import matplotlib.pyplot as plt\n",
    "\n",
    "x = np.linspace(0, 20, 1000)  # Range for x-axis\n",
    "y = st.chi2.pdf(x, df)  \n",
    "plt.figure(figsize=(10, 6))\n",
    "plt.plot(x, y, label=f'Chi-square Distribution (df={df})', color='blue')\n",
    "plt.axvline(chi_bon, color='red', linestyle='--', label=f'Critical Value (chi_bon={chi_bon:.2f})')\n",
    "plt.axvline(chi_val, color='green', linestyle='-', label=f'Calculated Chi-Square (chi_val={chi_val:.2f})')\n",
    "\n",
    "plt.fill_between(x, y, where=(x >= chi_bon), color='red', alpha=0.2, label=\"Critical Region\")\n",
    "plt.title('Chi-Square Test')\n",
    "plt.xlabel('Chi-Square Value')\n",
    "plt.ylabel('Probability Density')\n",
    "plt.legend()\n",
    "plt.show()\n"
   ]
  },
  {
   "cell_type": "markdown",
   "id": "1b1e752e-015c-404e-a51e-3e66ffcfd204",
   "metadata": {},
   "source": [
    "#A company wants to know if customer satisfaction ratings are equally distributed among four categories: Excellent, Good, Fair, and Poor. A survey of 200 customers resulted in the following responses:\n",
    "#Rating\tCustomers (Observed)\n",
    "#Excellent\t50\n",
    "#Good\t70\n",
    "#Fair\t60\n",
    "#Poor\t20\n",
    "#Using a 5% significance level, test whether the satisfaction ratings are equally distributed."
   ]
  },
  {
   "cell_type": "code",
   "execution_count": 17,
   "id": "64beac38-307f-4bb1-98a2-9569733e1b1a",
   "metadata": {},
   "outputs": [
    {
     "name": "stdout",
     "output_type": "stream",
     "text": [
      "H1\n"
     ]
    },
    {
     "data": {
      "image/png": "[encoded data removed]",
      "text/plain": [
       "<Figure size 1000x600 with 1 Axes>"
      ]
     },
     "metadata": {},
     "output_type": "display_data"
    }
   ],
   "source": [
    "ob = np.array([50,70,60,20])\n",
    "n = 200\n",
    "ex = n / len(ob)\n",
    "alpha = 0.05\n",
    "df = len(ob) - 1\n",
    "#H0 = customer satisfacted\n",
    "#h1 = customer is not  satisfacted\n",
    "\n",
    "chi_critical = st.chi2.ppf(1-alpha,df)\n",
    "\n",
    "chi_value = np.sum((ob-ex)**2/ex)\n",
    "\n",
    "if chi_value > chi_critical:\n",
    "    print(\"H1\")\n",
    "else:\n",
    "    print(\"H0\")\n",
    "\n",
    "x = np.linspace(0, 20, 1000)  # Range for x-axis\n",
    "y = st.chi2.pdf(x, df)  # Chi-square distribution\n",
    "\n",
    "plt.figure(figsize=(10, 6))\n",
    "plt.plot(x, y, label=f'Chi-square Distribution (df={df})', color='blue')\n",
    "plt.axvline(chi_critical, color='red', linestyle='--', label=f'Critical Value (chi_critical={chi_critical:.2f})')\n",
    "plt.axvline(chi_value, color='green', linestyle='-', label=f'Calculated Chi-Square (chi_value={chi_value:.2f})')\n",
    "\n",
    "plt.fill_between(x, y, where=(x >= chi_critical), color='red', alpha=0.2, label=\"Critical Region\")\n",
    "\n",
    "plt.title('Chi-Square Test')\n",
    "plt.xlabel('Chi-Square Value')\n",
    "plt.ylabel('Probability Density')\n",
    "plt.legend()\n",
    "plt.show()\n"
   ]
  },
  {
   "cell_type": "markdown",
   "id": "eee286c8-40db-4bd3-ac93-632698ce4b4c",
   "metadata": {},
   "source": [
    "#Ek school mein chaar alag-alag subject ke liye student ka pass percentage jaana gaya. School ne 150 students ka survey kiya aur unka pass percentage kuch is tarah tha:\n",
    "#Subject\tStudents (Observed)\n",
    "#Mathematics\t40\n",
    "#Science\t50\n",
    "#English\t30\n",
    "#Social Studies\t30\n",
    "#Aapko yeh pata lagana hai ki kya students ke pass percentage subjects mein barabar hai ya nahi. Iska test karne ke liye 5% significance level ka istemal karein."
   ]
  },
  {
   "cell_type": "code",
   "execution_count": 33,
   "id": "ed3db760-4114-4463-a830-73d5a08f001e",
   "metadata": {},
   "outputs": [
    {
     "name": "stdout",
     "output_type": "stream",
     "text": [
      "h0\n"
     ]
    },
    {
     "data": {
      "image/png": "[encoded data removed]",
      "text/plain": [
       "<Figure size 1000x600 with 1 Axes>"
      ]
     },
     "metadata": {},
     "output_type": "display_data"
    }
   ],
   "source": [
    "#H0 PERCENTAGE = SUBJECT \n",
    "#H1 PERCENTAGE != SUBJECT\n",
    "\n",
    "obv = np.array([40,50,30,30])\n",
    "n = 150\n",
    "expted = n / len(obv)\n",
    "alpha = 0.05\n",
    "df = len(obv) - 1\n",
    "\n",
    "chi_bon = st.chi2.ppf(1-alpha,df)\n",
    "\n",
    "chi_calval = np.sum((obv-expted**2)/expted)\n",
    "\n",
    "if chi_calval > chi_bon:\n",
    "    print(\"h1\")\n",
    "else:\n",
    "    print(\"h0\")\n",
    "\n",
    "\n",
    "x = np.linspace(0, 20, 1000)  # Range for x-axis\n",
    "y = st.chi2.pdf(x, df)  # Chi-square distribution\n",
    "\n",
    "plt.figure(figsize=(10, 6))\n",
    "plt.plot(x, y, label=f'Chi-square Distribution (df={df})', color='blue')\n",
    "plt.axvline(chi_bon, color='red', linestyle='--', label=f'Critical Value (chi_bon={chi_bon:.2f})')\n",
    "plt.axvline(chi_calval, color='green', linestyle='-', label=f'Calculated Chi-Square (chi_calval={chi_calval:.2f})')\n",
    "\n",
    "# Shade the critical region\n",
    "plt.fill_between(x, y, where=(x >= chi_bon), color='red', alpha=0.2, label=\"Critical Region\")\n",
    "\n",
    "# Labels and legend\n",
    "plt.title('Chi-Square Test')\n",
    "plt.xlabel('Chi-Square Value')\n",
    "plt.ylabel('Probability Density')\n",
    "plt.legend()\n",
    "plt.show()"
   ]
  },
  {
   "cell_type": "code",
   "execution_count": 35,
   "id": "e96952de-c2c6-4f20-b9b1-d6cf02a399f8",
   "metadata": {},
   "outputs": [
    {
     "data": {
      "text/plain": [
       "(-146.0, 7.814727903251179)"
      ]
     },
     "execution_count": 35,
     "metadata": {},
     "output_type": "execute_result"
    }
   ],
   "source": [
    "chi_calval,chi_bon"
   ]
  },
  {
   "cell_type": "markdown",
   "id": "df0ab3cc-5193-4228-bca5-e7bdfdb63ae0",
   "metadata": {},
   "source": [
    "#hard"
   ]
  },
  {
   "cell_type": "markdown",
   "id": "fefc9575-7d13-4f01-8c04-81b01798e719",
   "metadata": {},
   "source": [
    "#Ek research study mein, ek psychologist ne yeh jaanchne ke liye data collect kiya ki kya alag-alag therapy techniques \n",
    "#(Cognitive Behavioral Therapy, Psychoanalysis, aur Humanistic Therapy) ka patients ke recovery rate par koi farak hai ya nahi. Unhone 120 patients ka survey kiya, aur unke recovery rates kuch is tarah se hain:\n",
    "#Therapy Technique\tPatients (Observed)\n",
    "#Cognitive Behavioral Therapy\t35\n",
    "#Psychoanalysis\t25\n",
    "#Humanistic Therapy\t30\n",
    "#Control Group\t30\n",
    "#Aapko yeh pata lagana hai ki kya alag-alag therapy techniques ka patients ke recovery rates par koi asar hai ya nahi. \n",
    "#Iska test karne ke liye 1% significance level ka istemal karein."
   ]
  },
  {
   "cell_type": "code",
   "execution_count": 54,
   "id": "5d12e4f4-8d61-40a3-96b1-9d32e686bdef",
   "metadata": {},
   "outputs": [
    {
     "name": "stdout",
     "output_type": "stream",
     "text": [
      "H0\n"
     ]
    }
   ],
   "source": [
    "obvered = np.array([35,25,30,30])\n",
    "n = 120\n",
    "expected = n / len(obvered)\n",
    "alpha = 0.01\n",
    "df = len(obvered) - 1\n",
    "\n",
    "#H0 recovery rate par koi farak hai \n",
    "#H1 recovery rate par koi farak hai ya nahi \n",
    "\n",
    "chi_criti = st.chi2.ppf(1 - alpha, df)\n",
    "\n",
    "chi_calculated = np.sum((obvered-expected)**2/expected)\n",
    "\n",
    "if chi_calculated > chi_criti:\n",
    "    print(\"H1\")\n",
    "else:\n",
    "    print(\"H0\")"
   ]
  },
  {
   "cell_type": "code",
   "execution_count": 51,
   "id": "4669d5bf-616e-432b-b144-2c5cb299d9cb",
   "metadata": {},
   "outputs": [
    {
     "data": {
      "text/plain": [
       "(-116.0, 11.344866730144373)"
      ]
     },
     "execution_count": 51,
     "metadata": {},
     "output_type": "execute_result"
    }
   ],
   "source": [
    "chi_calculated , chi_criti"
   ]
  },
  {
   "cell_type": "code",
   "execution_count": 2,
   "id": "3cc29dc0-c542-4ee0-9cce-d3a4f465a1fd",
   "metadata": {},
   "outputs": [],
   "source": [
    "import numpy as np \n",
    "import scipy.stats as st"
   ]
  },
  {
   "cell_type": "markdown",
   "id": "f7fbb990-edee-457d-8164-32050531e01b",
   "metadata": {},
   "source": [
    "#Ek city mein average monthly income ₹30,000 hai aur standard deviation ₹5,000 hai. Ek naya training program conduct kiya gaya aur us program ke baad 100 logon ka sample liya gaya, jinka average income ₹31,500 aaya. Kya ye sample mean population mean se significantly different hai?\n",
    "\n",
    "#Use a significance level of 5% (α = 0.05)."
   ]
  },
  {
   "cell_type": "code",
   "execution_count": 52,
   "id": "97db769f-bcd1-4111-98ad-6c2572763d70",
   "metadata": {},
   "outputs": [
    {
     "name": "stdout",
     "output_type": "stream",
     "text": [
      "H1\n"
     ]
    }
   ],
   "source": [
    "p_mean = 30000\n",
    "std = 5000\n",
    "n = 100\n",
    "s_mean = 31500\n",
    "alpha = 0.05\n",
    "\n",
    "#H0 AVG INCOME = 30000\n",
    "#H1 AVG INCOME > 30000\n",
    "\n",
    "z_value = s_mean-p_mean/(std/np.sqrt(n))\n",
    "z_crical = st.norm.ppf(1 - alpha)\n",
    "\n",
    "if z_value > z_crical:\n",
    "    print(\"H1\")\n",
    "else:\n",
    "    print(\"H0\")"
   ]
  },
  {
   "cell_type": "markdown",
   "id": "c4f34b4a-6c9e-43fc-a21c-2cbe6c906fdf",
   "metadata": {},
   "source": [
    "#Ek school mein students ka average height 150 cm hai. 10 students ka ek sample liya gaya aur unka average height 152 cm aaya. Kya is sample mean mein population mean se koi significant difference hai?"
   ]
  },
  {
   "cell_type": "code",
   "execution_count": 56,
   "id": "377e41c6-2082-4795-b04d-98da0caf821a",
   "metadata": {},
   "outputs": [
    {
     "name": "stdout",
     "output_type": "stream",
     "text": [
      "h1\n"
     ]
    }
   ],
   "source": [
    "std = 5\n",
    "p_mean = 150 \n",
    "n = 10 \n",
    "s_mean = 152\n",
    "df = n - 1\n",
    "alpha = 0.05\n",
    "\n",
    "#h0 average height = 150 \n",
    "#h1 average height > 150 \n",
    "\n",
    "t_cal = st.t.ppf(1 - alpha ,df)\n",
    "t_val = s_mean-p_mean/(std/np.sqrt(n))\n",
    "\n",
    "if t_val > t_cal:\n",
    "    print(\"h1\")\n",
    "else:\n",
    "    print(\"h0\")"
   ]
  },
  {
   "cell_type": "markdown",
   "id": "8bdaf008-5288-4dc0-b4c7-3d0742833e92",
   "metadata": {},
   "source": [
    "#Ek company ne apne employees ko ek naya software training diya aur unke efficiency scores ko record kiya. Company chahti hai ki yeh test kare ki naya software training ke baad unki efficiency mein significant improvement aayi hai ya nahi.\n",
    "\n",
    "#Data:\n",
    "\n",
    "#Before Training Scores: 72, 75, 70, 68, 74, 77, 71, 73, 69\n",
    "#After Training Scores: 78, 80, 76, 82, 79, 81, 75, 77, 83\n",
    "#Use a significance level of 5% (α = 0.05)."
   ]
  },
  {
   "cell_type": "code",
   "execution_count": 59,
   "id": "239c41de-dc71-4e1a-8629-d892bc4000e0",
   "metadata": {},
   "outputs": [],
   "source": [
    "before = np.array([72, 75, 70, 68, 74, 77, 71, 73, 69])\n",
    "after  = np.array([78, 80, 76, 82, 79, 81, 75, 77, 83])"
   ]
  },
  {
   "cell_type": "code",
   "execution_count": 82,
   "id": "ff8db735-b4f3-46b2-af32-f1900b8e2b1e",
   "metadata": {},
   "outputs": [
    {
     "name": "stdout",
     "output_type": "stream",
     "text": [
      "h1\n"
     ]
    }
   ],
   "source": [
    "p_mean = before.mean()\n",
    "s_mean = after.mean()\n",
    "n = len(after)\n",
    "df = n - 1\n",
    "alpha = 0.05\n",
    "std = before.std()\n",
    "\n",
    "#h0 Before Training not  improvement\n",
    "# h1 After Training yes improvement\n",
    "\n",
    "t_cri = st.t.ppf(1 - alpha , df)\n",
    "t = (s_mean-p_mean)/(std/np.sqrt(n))\n",
    "\n",
    "if t > t_cri:\n",
    "    print(\"h1\")\n",
    "else:\n",
    "    print(\"h0\")"
   ]
  },
  {
   "cell_type": "code",
   "execution_count": 79,
   "id": "26255cb2-0dee-47b9-885f-17c675292627",
   "metadata": {},
   "outputs": [
    {
     "data": {
      "text/plain": [
       "(79.0, 79.0)"
      ]
     },
     "execution_count": 79,
     "metadata": {},
     "output_type": "execute_result"
    }
   ],
   "source": [
    "p_mean , s_mean"
   ]
  },
  {
   "cell_type": "markdown",
   "id": "d62b22dd-45c3-4edc-ba00-a8dcdc54b243",
   "metadata": {},
   "source": [
    "Ek toy manufacturer ka kehna hai ki unhone apni toy production mein equal quantity of red, blue, and green toys banaye hain. 100 toys ka sample liya gaya aur unke colors record kiye gaye.\n",
    "\n",
    "Observed Data (O):\n",
    "\n",
    "Red: 30\n",
    "Blue: 40\n",
    "Green: 30\n",
    "Expected Data (E):\n",
    "\n",
    "Red: 33.33\n",
    "Blue: 33.33\n",
    "Green: 33.33\n",
    "\n",
    "Compare the calculated chi-square value with the critical chi-square value at α = 0.05."
   ]
  },
  {
   "cell_type": "code",
   "execution_count": 95,
   "id": "c3b6eb3c-7921-4290-8735-3aada87e419e",
   "metadata": {},
   "outputs": [
    {
     "name": "stdout",
     "output_type": "stream",
     "text": [
      "h0\n"
     ]
    }
   ],
   "source": [
    "#h0 toy product are equal\n",
    "#h1 toy product are not equal\n",
    "ex  = np.array([33.33,33.33,33.33])\n",
    "ob = np.array([30,40,30])\n",
    "alpha = 0.05\n",
    "df = len(ex) - 1\n",
    "chi_bon = st.chi2.ppf(1 - alpha , df)\n",
    "chi_val = np.sum((ob-ex)**2/ex)\n",
    "\n",
    "\n",
    "if chi_val > chi_bon:\n",
    "    print(\"h1\")\n",
    "else:\n",
    "    print(\"h0\")"
   ]
  },
  {
   "cell_type": "code",
   "execution_count": 96,
   "id": "c4f67012-2415-4daa-b2ee-28db4f1410b0",
   "metadata": {},
   "outputs": [
    {
     "data": {
      "text/plain": [
       "(2.0002010201020104, 5.991464547107979)"
      ]
     },
     "execution_count": 96,
     "metadata": {},
     "output_type": "execute_result"
    }
   ],
   "source": [
    "chi_val , chi_bon"
   ]
  },
  {
   "cell_type": "markdown",
   "id": "8abaf625-0c4f-498d-b22c-861f4944d19c",
   "metadata": {},
   "source": [
    "Ek survey kiya gaya hai jisme log apne favorite color ko choose karte hain. Survey mein logon ne 4 colors choose kiye hain aur company ko dekhna hai ki kya ye colors logon mein equally popular hain ya nahi. Observed data aur expected data niche diye gaye hain.\n",
    "\n",
    "Observed Frequencies: Red: 30, Blue: 50, Green: 40, Yellow: 20\n",
    "Expected Frequencies: Har color ke liye 35 hone chahiye.\n",
    "\n",
    "Hypothesis:\n",
    "\n",
    "H0: Sab colors equally popular hain.\n",
    "H1: Sab colors equally popular nahi hain."
   ]
  },
  {
   "cell_type": "code",
   "execution_count": 17,
   "id": "dcebcb5e-36b4-4f39-bbc7-f3f9df6f3e87",
   "metadata": {},
   "outputs": [
    {
     "name": "stdout",
     "output_type": "stream",
     "text": [
      "h1\n"
     ]
    }
   ],
   "source": [
    "ob = np.array([30,50,40,20])\n",
    "ex = np.array([35,35,35,35])\n",
    "k = len(ex)\n",
    "df = k - 1\n",
    "alpha = 0.05\n",
    "\n",
    "#H0: Sab colors equally popular hain.\n",
    "#H1: Sab colors equally popular nahi hain.\n",
    "\n",
    "chi_bon = st.chi2.ppf(1 - alpha ,df)\n",
    "\n",
    "chi_val = np.sum((ob-ex)**2/ex)\n",
    "\n",
    "if chi_val > chi_bon:\n",
    "    print(\"h1\")\n",
    "else:\n",
    "    print(\"h0\")"
   ]
  },
  {
   "cell_type": "markdown",
   "id": "40e3a705-e76f-4651-945e-b578a8552850",
   "metadata": {},
   "source": [
    "# ANOVA TEST "
   ]
  },
  {
   "cell_type": "markdown",
   "id": "fa6d6256-a892-4a1f-a6f8-e887c5017dcc",
   "metadata": {},
   "source": [
    "#Ek gym trainer ne teen alag-alag workout plans ko test kiya hai. Unhone 3 alag-alag groups ko alag-alag workout plans diya aur unka weight loss record kiya.\n",
    "\n",
    "#Workout Plans (Groups):\n",
    "\n",
    "#Plan A: [4, 5, 6, 5, 4]\n",
    "#Plan B: [7, 8, 6, 9, 7]\n",
    "#Plan C: [3, 4, 5, 4, 3]\n",
    "#Aapko yeh dekhna hai ki kya workout plans ke beech koi significant difference hai weight loss mein.\n",
    "\n",
    "#Significance Level (α): 0.05"
   ]
  },
  {
   "cell_type": "code",
   "execution_count": 150,
   "id": "04fa9065-a9ec-4e7f-9a43-dfd918b005cc",
   "metadata": {},
   "outputs": [
    {
     "name": "stdout",
     "output_type": "stream",
     "text": [
      "h1\n"
     ]
    }
   ],
   "source": [
    "a = np.array([4, 5, 6, 5, 4])\n",
    "b = np.array([7, 8, 6, 9, 7])\n",
    "c = np.array([3, 4, 5, 4, 3])\n",
    "\n",
    "#h0 mean of  a , b , b are equal\n",
    "#h1 mean of a , b , c are not equal\n",
    "\n",
    "n = len(a)+len(b)+len(c)\n",
    "a = 3\n",
    "\n",
    "df1 = a - 1 \n",
    "df2 = n -a\n",
    "\n",
    "anova_val , anova_cri = st.f_oneway(a , b  , c)\n",
    "\n",
    "f_critical = stats.f.ppf(1 - alpha, df1 , df2)\n",
    "\n",
    "if anova_val > f_critical:\n",
    "    print(\"h1\")\n",
    "else:\n",
    "    print(\"h0\")"
   ]
  },
  {
   "cell_type": "markdown",
   "id": "d49ada7f-fed3-4337-aa11-c8bedde061dd",
   "metadata": {},
   "source": [
    "#Ek health research study mein, ek group of participants ko 4 alag-alag types ki diet di gayi thi. Aapko yeh test karna hai ki in 4 diet plans ke beech weight loss mein koi significant difference hai ya nahi.\n",
    "\n",
    "#Data:\n",
    "#Diet Plan A (Group 1): [5, 7, 6, 5, 8, 7, 6, 7]\n",
    "#Diet Plan B (Group 2): [10, 12, 11, 13, 10, 11, 12, 13]\n",
    "#Diet Plan C (Group 3): [4, 5, 6, 4, 5, 6, 5, 4]\n",
    "#Diet Plan D (Group 4): [15, 14, 16, 15, 14, 15, 14, 16]\n",
    "#Aapko alpha = 0.05 ke level par test karna hai ki kya in 4 diet plans ke beech weight loss mein koi significant difference hai"
   ]
  },
  {
   "cell_type": "code",
   "execution_count": 152,
   "id": "0dbaf95b-d529-4b9d-b235-1fe89440fbbd",
   "metadata": {},
   "outputs": [
    {
     "name": "stdout",
     "output_type": "stream",
     "text": [
      "h1\n"
     ]
    }
   ],
   "source": [
    "a = np.array([5, 7, 6, 5, 8, 7, 6, 7])\n",
    "b = np.array([10, 12, 11, 13, 10, 11, 12, 13])\n",
    "c = np.array([4, 5, 6, 4, 5, 6, 5, 4])\n",
    "d = np.array([15, 14, 16, 15, 14, 15, 14, 16])\n",
    "\n",
    "alpha = 0.05 \n",
    "n = len(a)+len(b)+len(c)+len(d)\n",
    "k = 4\n",
    "\n",
    "df1 = k - 1\n",
    "df2 = n - k\n",
    "\n",
    "#h0 all diets plan have same weight loss \n",
    "#h1 all diets plan are not same weight loss \n",
    "\n",
    "f_critical = st.f.ppf(1 - alpha , df1 , df2)\n",
    "\n",
    "f_value , p_val = st.f_oneway(a , b , c , d)\n",
    "\n",
    "if f_value > f_critical:\n",
    "    print(\"h1\")\n",
    "else:\n",
    "    print(\"h0\")"
   ]
  },
  {
   "cell_type": "markdown",
   "id": "de96d13e-6c6a-4c84-a771-88a73ad2bccf",
   "metadata": {},
   "source": [
    "#Maan lijiye ek university mein 5 different study methods hain, aur university ke officials yeh jaan na chahte hain ki in methods ka students ke exam performance par koi significant impact hai ya nahi.\n",
    "#Aapko yeh test karna hai ki 5 study methods ke beech exam performance mein koi significant difference hai ya nahi.\n",
    "\n",
    "#Study Methods:\n",
    "\n",
    "#Method 1: Scores: 75, 80, 85, 90, 95\n",
    "#Method 2: Scores: 65, 70, 72, 68, 75\n",
    "#Method 3: Scores: 85, 90, 88, 92, 94\n",
    "#Method 4: Scores: 60, 65, 68, 70, 66\n",
    "#Method 5: Scores: 95, 100, 105, 98, 102"
   ]
  },
  {
   "cell_type": "code",
   "execution_count": 154,
   "id": "2b1a9ac2-0b0d-4ca8-88a2-7c193097016c",
   "metadata": {},
   "outputs": [
    {
     "name": "stdout",
     "output_type": "stream",
     "text": [
      "H1 ALL METHOD OF STUDY ARE NOT SAME performance mein koi significant difference hai\n"
     ]
    }
   ],
   "source": [
    "a = np.array([75, 80, 85, 90, 95])\n",
    "b = np.array([65, 70, 72, 68, 75])\n",
    "c = np.array([85, 90, 88, 92, 94])\n",
    "d = np.array([60, 65, 68, 70, 66])\n",
    "e = np.array([95, 100, 105, 98, 102])\n",
    "\n",
    "alpha = 0.05\n",
    "\n",
    "n = len(a)+len(b)+len(c)+len(d)+len(e)\n",
    "k = 5\n",
    "\n",
    "df1 = k - 1\n",
    "df2 = n - k\n",
    "\n",
    "#H0 ALL METHOD OF STUDY ARE SAME performance mein koi significant difference hai ya nahi\n",
    "#H1 ALL METHOD OF STUDY ARE NOT SAME performance mein koi significant difference hai \n",
    "\n",
    "f_cri = st.f.ppf(1 - alpha , df1 ,df2)\n",
    "\n",
    "f_val , p_v = st.f_oneway(a, b ,c ,d,e)\n",
    "\n",
    "if f_val > f_cri:\n",
    "    print(\"H1 ALL METHOD OF STUDY ARE NOT SAME performance mein koi significant difference hai\")\n",
    "else:\n",
    "    print(\"#H0 ALL METHOD OF STUDY ARE SAME performance mein koi significant difference hai ya nahi\")"
   ]
  },
  {
   "cell_type": "markdown",
   "id": "11b139e5-d62b-415c-963e-837ec023ebc2",
   "metadata": {},
   "source": [
    "Ek company mein 4 alag study schedules hain aur yeh company check karna chahti hai ki kya ye schedules employees ke productivity scores par koi significant effect rakhte hain ya nahi.\n",
    "\n",
    "Productivity Scores:\n",
    "\n",
    "Schedule 1: 60, 65, 63, 67, 62\n",
    "Schedule 2: 55, 58, 60, 54, 59\n",
    "Schedule 3: 70, 68, 72, 69, 71\n",
    "Schedule 4: 75, 78, 80, 76, 74"
   ]
  },
  {
   "cell_type": "code",
   "execution_count": 2,
   "id": "782d50af-de44-4c98-a50e-015effbff628",
   "metadata": {},
   "outputs": [
    {
     "name": "stdout",
     "output_type": "stream",
     "text": [
      "h1\n"
     ]
    }
   ],
   "source": [
    "Schedule_1 = np.array([60, 65, 63, 67, 62])\n",
    "Schedule_2 = np.array([ 55, 58, 60, 54, 59])\n",
    "Schedule_3 = np.array([70, 68, 72, 69, 71])\n",
    "Schedule_4 = np.array([75, 78, 80, 76, 74])\n",
    "\n",
    "alpha = 0.05\n",
    "\n",
    "n = len(Schedule_1)+len(Schedule_2)+len(Schedule_3)+len(Schedule_4)\n",
    "k = 4\n",
    "\n",
    "df1 = k - 1\n",
    "df2 = n - k\n",
    "\n",
    "#h0 all schedule are same \n",
    "#h1 all schedule are not same \n",
    "\n",
    "f_critical = st.f.ppf(1 - alpha , df1 , df2)\n",
    "\n",
    "f_val  , p_val = st.f_oneway(Schedule_1 , Schedule_2, Schedule_3 , Schedule_4)\n",
    "\n",
    "if f_val > f_critical:\n",
    "    print(\"h1\")\n",
    "else:\n",
    "    print(\"h0\")"
   ]
  },
  {
   "cell_type": "code",
   "execution_count": 4,
   "id": "266044a8-fcd1-4115-8026-fb502f41e34f",
   "metadata": {},
   "outputs": [
    {
     "data": {
      "text/plain": [
       "(3.238871517453585, 62.78026905829593)"
      ]
     },
     "execution_count": 4,
     "metadata": {},
     "output_type": "execute_result"
    }
   ],
   "source": [
    "f_critical , f_val"
   ]
  },
  {
   "cell_type": "markdown",
   "id": "68680aef-d327-46a7-ac7e-141fdb8ee8b3",
   "metadata": {},
   "source": [
    "Fertilizer A\tFertilizer B\tFertilizer C\n",
    "18\t20\t19\n",
    "22\t24\t23\n",
    "19\t23\t20\n",
    "21\t22\t21\n",
    "20\t25\t22\n",
    "\n",
    "A researcher wants to test whether three different fertilizers (Fertilizer A, Fertilizer B, and Fertilizer C) have significantly different effects on the growth of plants. The data below shows the plant heights (in cm) after 30 days of using each fertilizer:"
   ]
  },
  {
   "cell_type": "code",
   "execution_count": 7,
   "id": "00397660-c38e-435b-b2be-8e8b1828e002",
   "metadata": {},
   "outputs": [
    {
     "name": "stdout",
     "output_type": "stream",
     "text": [
      "h0\n"
     ]
    }
   ],
   "source": [
    "fer_a = np.array([18,22,19,21,20])\n",
    "fer_b = np.array([20,24,23,22,25])\n",
    "fer_c = np.array([19,23,20,21,22])\n",
    "\n",
    "#H0 ALL ARE SAME \n",
    "#H1 THERE IS A DIFFRANCE B/W FER\n",
    "\n",
    "alpha =  0.05\n",
    "\n",
    "n = len(fer_a)+len(fer_b)+len(fer_c)\n",
    "k = 3\n",
    "df1 = k - 1\n",
    "df2 = n - k\n",
    "\n",
    "f_cri = st.f.ppf(1 - alpha ,df1 ,df2)\n",
    "\n",
    "f_value , val = st.f_oneway(fer_a , fer_b , fer_c)\n",
    "\n",
    "\n",
    "if f_value > f_cri:\n",
    "    print(\"h1\")\n",
    "else:\n",
    "    print(\"h0\")"
   ]
  },
  {
   "cell_type": "code",
   "execution_count": null,
   "id": "bcdb180d-495d-40a9-ae72-f54c5c573dbd",
   "metadata": {},
   "outputs": [],
   "source": []
  }
 ],
 "metadata": {
  "kernelspec": {
   "display_name": "Python 3 (ipykernel)",
   "language": "python",
   "name": "python3"
  },
  "language_info": {
   "codemirror_mode": {
    "name": "ipython",
    "version": 3
   },
   "file_extension": ".py",
   "mimetype": "text/x-python",
   "name": "python",
   "nbconvert_exporter": "python",
   "pygments_lexer": "ipython3",
   "version": "3.12.2"
  }
 },
 "nbformat": 4,
 "nbformat_minor": 5
}
